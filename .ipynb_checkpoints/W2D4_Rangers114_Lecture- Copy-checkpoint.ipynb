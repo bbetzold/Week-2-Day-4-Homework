{
 "cells": [
  {
   "cell_type": "markdown",
   "metadata": {},
   "source": [
    "# User-Defined Functions & Scoping"
   ]
  },
  {
   "cell_type": "markdown",
   "metadata": {},
   "source": [
    "## Tasks Today:\n",
    "\n",
    "\n",
    "1) Functions <br>\n",
    " &nbsp;&nbsp;&nbsp;&nbsp; a) User-Defined vs. Built-In Functions <br>\n",
    " &nbsp;&nbsp;&nbsp;&nbsp; b) Accepting Parameters <br>\n",
    " &nbsp;&nbsp;&nbsp;&nbsp; c) Default Parameters <br>\n",
    " &nbsp;&nbsp;&nbsp;&nbsp; d) Making an Argument Optional <br>\n",
    " &nbsp;&nbsp;&nbsp;&nbsp; e) Keyword Arguments <br>\n",
    " &nbsp;&nbsp;&nbsp;&nbsp; f) Returning Values <br>\n",
    " &nbsp;&nbsp;&nbsp;&nbsp; g) *args <br>\n",
    " &nbsp;&nbsp;&nbsp;&nbsp; h) Docstring <br>\n",
    " &nbsp;&nbsp;&nbsp;&nbsp; i) Using a User Function in a Loop <br>\n",
    "2) Scope\n",
    "3) Creating more User-Defined functions "
   ]
  },
  {
   "cell_type": "markdown",
   "metadata": {},
   "source": [
    "\n",
    "## Functions"
   ]
  },
  {
   "cell_type": "markdown",
   "metadata": {},
   "source": [
    "##### User-Defined vs. Built-In Functions"
   ]
  },
  {
   "cell_type": "code",
   "execution_count": null,
   "metadata": {},
   "outputs": [],
   "source": [
    "# Built-in function\n",
    "# print(\"Hello\")\n",
    "\n",
    "# User-defined function\n",
    "def say_hello():\n",
    "    return \"Hello\"\n",
    "say_hello()\n",
    "\n",
    "def say_hello2():\n",
    "    return \"Hello again\"\n",
    "\n",
    "print(say_hello2())\n",
    "\n",
    "def say_hello3():\n",
    "    hello = say_hello()\n",
    "    return hello\n",
    "\n",
    "# when calling a function, you will always need to put parentheses at the end\n",
    "print(say_hello3())\n",
    "\n"
   ]
  },
  {
   "cell_type": "markdown",
   "metadata": {},
   "source": [
    "##### Accepting Parameters"
   ]
  },
  {
   "cell_type": "code",
   "execution_count": null,
   "metadata": {
    "scrolled": true
   },
   "outputs": [],
   "source": [
    "# elements passed into a function\n",
    "# variables to hold the place of items our function will act upon\n",
    "# order matters\n",
    "# a parameter can be of any object type (data type)\n",
    "\n",
    "def print_something(something):\n",
    "    return something\n",
    "                    #argument\n",
    "print_something(\"the weather is kinda gross today\")\n",
    "\n",
    "def make_sentence(noun, adjective, verb):\n",
    "    return f\"The {noun} is very {adjective} and it's {verb}\"\n",
    "\n",
    "print(make_sentence(\"sky\", \"gloomy\", \"raining\"))\n",
    "\n",
    "def subtraction(a, b):\n",
    "    return a-b\n",
    "\n",
    "print(subtraction(10,6))"
   ]
  },
  {
   "cell_type": "markdown",
   "metadata": {},
   "source": [
    "##### Default Parameters"
   ]
  },
  {
   "cell_type": "code",
   "execution_count": null,
   "metadata": {
    "scrolled": true
   },
   "outputs": [],
   "source": [
    "# default parameters must always come after non-default parameters\n",
    "def agent_name(first_name, last_name = \"Bond\"):\n",
    "    return f\"The name is {last_name}.... {first_name} {last_name}\"\n",
    "\n",
    "print(agent_name(\"Jimmy\"))\n",
    "\n",
    "print(agent_name(\"Leroy\", \"Jenkins\"))"
   ]
  },
  {
   "cell_type": "code",
   "execution_count": null,
   "metadata": {},
   "outputs": [],
   "source": [
    "# default parameters must always come after non-default parameters\n",
    "def agent_name(first_name = \"James\", last_name = \"Bond\"):\n",
    "    return f\"The name is {last_name}.... {first_name} {last_name}\"\n",
    "\n",
    "print(agent_name())"
   ]
  },
  {
   "cell_type": "code",
   "execution_count": null,
   "metadata": {},
   "outputs": [],
   "source": [
    "def birthday_month(day, year, month=\"March\"):\n",
    "    return f\"Your birthday is {month} {day} and you were born in {year}\"\n",
    "print(birthday_month(21, 2023))\n",
    "\n",
    "print(birthday_month(1, 2023, \"May\"))"
   ]
  },
  {
   "cell_type": "markdown",
   "metadata": {},
   "source": [
    "##### Making an Argument Optional"
   ]
  },
  {
   "cell_type": "code",
   "execution_count": null,
   "metadata": {},
   "outputs": [],
   "source": [
    "# similar to creating a default parameter\n",
    "# setting to an empty string makes it optional\n",
    "def print_horse_name(first, middle =\"\", last = \"Ed\"):\n",
    "    if middle == '':\n",
    "        return f\"Hello {first} {last}\"\n",
    "    return f\"Hello {first} {middle} {last}.\"\n",
    "\n",
    "print(print_horse_name(\"Mr.\"))\n",
    "print(print_horse_name(\"Mr.\", \"The Horse\"))"
   ]
  },
  {
   "cell_type": "markdown",
   "metadata": {},
   "source": [
    "##### Keyword Arguments"
   ]
  },
  {
   "cell_type": "code",
   "execution_count": null,
   "metadata": {
    "scrolled": true
   },
   "outputs": [],
   "source": [
    "#keyword arguments must follow positional arguments\n",
    "def print_hero(name, secret_identity, power=\"flying\"):\n",
    "    return f\"{name}'s power is {power} and their secret identity is {secret identity}\"\n",
    "\n",
    "print(print_hero(power=\"money\", name=\"batman\", secret_identity=\"Bruce Wayne\"))"
   ]
  },
  {
   "cell_type": "code",
   "execution_count": null,
   "metadata": {},
   "outputs": [],
   "source": [
    "yellow = \"yellow\"\n",
    "def print_colors(color1, color2, color3):\n",
    "    return f\"Here are some neat colors: {color1}, {color2}, {color3}\"\n",
    "\n",
    "print(print_colors(color2=\"blue\", color3=yellow, color1=\"red\"))"
   ]
  },
  {
   "cell_type": "markdown",
   "metadata": {},
   "source": [
    "# Creating a start, stop, step function"
   ]
  },
  {
   "cell_type": "code",
   "execution_count": null,
   "metadata": {
    "scrolled": false
   },
   "outputs": [],
   "source": [
    "def my_range(stop, start=0, step=1):\n",
    "    for i in range(start, stop, step):\n",
    "        print(i)\n",
    "    return \"Hey great job, you're beautiful!\"\n",
    "print(my_range(20,1,2))"
   ]
  },
  {
   "cell_type": "code",
   "execution_count": null,
   "metadata": {},
   "outputs": [],
   "source": [
    "def square_nums(arr):\n",
    "    square_list = []\n",
    "    for num in arr:\n",
    "        square_list.append(num**2)\n",
    "    return square_list\n",
    "\n",
    "print(square_nums([2, 4, 6, 8]))"
   ]
  },
  {
   "cell_type": "markdown",
   "metadata": {},
   "source": [
    "##### Returning Values"
   ]
  },
  {
   "cell_type": "code",
   "execution_count": null,
   "metadata": {},
   "outputs": [],
   "source": [
    "poke_list = [\"Charmander\", \"Squirtl\", \"Cyndaquil\", \"Chikorita\", \"Totodile\"]\n",
    "def find_a_bulbasaur(arr):\n",
    "    for poke in arr:\n",
    "        if poke == \"Bulbasaur\":\n",
    "            return \"Bulba Bulba\"\n",
    "    return \"No Bulbasaur, sad\"\n",
    "\n",
    "find_a_bulbasaur(poke_list)"
   ]
  },
  {
   "cell_type": "code",
   "execution_count": null,
   "metadata": {},
   "outputs": [],
   "source": [
    "def is_bulbasaur(string):\n",
    "    if string == \"Bulba Bulba\":\n",
    "        return \"You caught a Bulbasaur!\"\n",
    "    return \"Oh no! The Bulbasaur appeared to be caught...and it ran away\"\n",
    "\n",
    "caught =  find_a_bulbasaur(poke_list)\n",
    "print(caught)\n",
    "\n",
    "#is_bulbasaur(caught)\n",
    "is_bulbasaur(find_a_bulbasaur(poke_list))"
   ]
  },
  {
   "cell_type": "code",
   "execution_count": null,
   "metadata": {},
   "outputs": [],
   "source": [
    "def is_bulbasaur(arr):\n",
    "    if find_a_bulbasaur(arr) == \"Bulba Bulba\":\n",
    "        return \"You caught a Bulbasaur!\"\n",
    "    return \"Oh no! The Bulbasaur appeared to be caught...and it ran away\"\n",
    "\n",
    "# caught =  find_a_bulbasaur(poke_list)\n",
    "print(caught)\n",
    "\n",
    "#is_bulbasaur(caught)\n",
    "is_bulbasaur(poke_list)"
   ]
  },
  {
   "cell_type": "markdown",
   "metadata": {},
   "source": [
    "##### *args / **kwargs (keyword arguments)"
   ]
  },
  {
   "cell_type": "code",
   "execution_count": null,
   "metadata": {
    "scrolled": true
   },
   "outputs": [],
   "source": [
    "#*args, **kwargs\n",
    "# *args stands for arguments and will allow the function to take in any number of arguments\n",
    "# **kwargs stands for keyword arguments and will allow the function to take in any number of keyword arguments\n",
    "# if other parameters are present, args and kwarfs must go last\n",
    "\n",
    "def print_args(num1,num2, name, *args, **kwargs):\n",
    "    print(\"This is my position argument:\", num1, num2, name)\n",
    "    print(\"These are my arguments:\", args)\n",
    "    print(\"These are my keyword arguments:\", kwargs)\n",
    "    \n",
    "print_args(2, 3,\"Ryan\", \"Mega Man\", \"Cheetor\", \"Chewbacca\", \"What else is on my desk?\", 12,54, names=[\"Chuck\", \"Desiree\",\"Patrick\"], languages=[\"python\"])"
   ]
  },
  {
   "cell_type": "code",
   "execution_count": null,
   "metadata": {},
   "outputs": [],
   "source": [
    "# def print_more_args(*names, **city):\n",
    "#     for name in name:\n",
    "#         print(name)\n",
    "    \n",
    "#     for city in city.values():\n",
    "#         for location in city:\n",
    "#             print(location)\n",
    "\n",
    "# print_more_args(\"Dharti\", \"Ewa\", \"Desiree\", \"Ben\", \"Enoch\", \"Swan\", \"Aristo\", \"Hyun-Tae\", \"Lyle\", \"Abdel\", cities:[\"Chicago\", \"Queens\", \"Los Angeles\", \"Plano\", \"Las Vegas\", \"Swan\", \"Portland\", \"Pittsburgh\", \"Seattle\", \"Virginia\", \"Fairfax\"])\n",
    "\n",
    "def print_more_args(*names, **locations):\n",
    "    for name in names:\n",
    "        print(name)\n",
    "    print(\"\\n\")\n",
    "#     place = locations['cities']\n",
    "    \n",
    "    for city in locations['cities']:\n",
    "        print(city)\n",
    "print_more_args(\"Dharti\", \"Ewa\", \"Desiree\", \"Ben\", \"Enoch\", \"Swan\", \"Aristo\", \"Hyun-Tae\", \"Lyle\", \"Abdel\",\n",
    "               cities=['Chicago', \"Queens\", \"Los Angeles\", \"Plano\", \"Las Vegas\", \"Portland\", \"Pittsburgh\", \"Seattle\", \"Fairfax\"])\n",
    "\n",
    "locations = {'cities': ['list of cities']}"
   ]
  },
  {
   "cell_type": "markdown",
   "metadata": {},
   "source": [
    "##### Docstring"
   ]
  },
  {
   "cell_type": "code",
   "execution_count": null,
   "metadata": {},
   "outputs": [],
   "source": [
    "# docstrings are a really nice way to leave notes about functionality in your code\n",
    "# provide instructions\n",
    "def print_names(arr):\n",
    "        \"\"\"\n",
    "        print_names(arr)\n",
    "        Function requires a list to be passed as an argument.\n",
    "        It will print the contents of the list.  It is expecting a list of\n",
    "        names as strings to be passed in.\n",
    "          \n",
    "        \"\"\"\n",
    "        for name in arr:\n",
    "            print(name)\n",
    "\n",
    "print_names(['Chuck', \"Alex\", \"Swan\", \"Kevin\", \"Abdel\"])\n",
    "\n",
    "help(print_names)"
   ]
  },
  {
   "cell_type": "markdown",
   "metadata": {},
   "source": [
    "##### Using a User Function in a Loop"
   ]
  },
  {
   "cell_type": "code",
   "execution_count": null,
   "metadata": {},
   "outputs": [],
   "source": [
    "def print_input(answer):\n",
    "    print(f\"I say heyaayayayyayayayay {answer}\")\n",
    "          \n",
    "while True:\n",
    "      ask = input(\"What's going on?\")\n",
    "\n",
    "      print_input(ask)\n",
    "\n",
    "      response = input(\"Are you ready to quit?\")\n",
    "      if response.lower() == \"yes\":\n",
    "          break\n",
    "          "
   ]
  },
  {
   "cell_type": "code",
   "execution_count": null,
   "metadata": {},
   "outputs": [],
   "source": [
    "store = {}\n",
    "\n",
    "def add_item():\n",
    "    item = input(\"What would you like to add? \")\n",
    "    quantity = int(input(f\"how many {item} would you like \"))\n",
    "    \n",
    "    if item not in store:\n",
    "        store[item] = quantity\n",
    "\n",
    "def remove_item():\n",
    "    item = input(\"what would you like to remove \")\n",
    "    del store[item]\n",
    "\n",
    "def show_store():\n",
    "    print(store)\n",
    "\n",
    "while True:\n",
    "    response = input(\"What would you like to do?, add, remove, show \")\n",
    "    \n",
    "    if response.lower() == 'add':\n",
    "        add_item()\n",
    "    elif response.lower() == 'remove':\n",
    "        remove_item()\n",
    "    elif response.lower() == \"show\":\n",
    "        show_store()\n",
    "    elif response.lower() == \"quite\":\n",
    "        break\n",
    "    else:\n",
    "        print(\"Please enter a valid response\")"
   ]
  },
  {
   "cell_type": "markdown",
   "metadata": {},
   "source": [
    "## Function Exercises <br>\n",
    "### Exercise 1\n",
    "<p>Write a function that loops through a list of first_names and a list of last_names, combines the two and return a list of full_names</p>"
   ]
  },
  {
   "cell_type": "code",
   "execution_count": null,
   "metadata": {},
   "outputs": [],
   "source": [
    "first_name = ['John', 'Evan', 'Jordan', 'Max', \"James\"]\n",
    "last_name = ['Smith', 'Smith', 'Williams', 'Bell']\n",
    "\n",
    "# def combine_names(firsts,lasts):\n",
    "#     name_list = []\n",
    "#     for name in range(len(first_name)):\n",
    "#         name_list[name]=f\"{firsts} {lasts}\"\n",
    "\n",
    "#     return name_list\n",
    "\n",
    "# combine_names(first_name, last_name)\n",
    "# # Output: ['John Smith', 'Evan Smith', 'Jordan Williams', 'Max Bell']\n",
    "def full_name(first_name, last_name):\n",
    "    full_name = []\n",
    "    \n",
    "    if len(first_name) != last_name:\n",
    "        print(\"Different amoun of first and last names\")\n",
    "    else:\n",
    "        for i in range(len(first_name)):\n",
    "            full_name.append(first_name[i]+\" \"+last_name[i])\n",
    "\n",
    "        return full_name\n",
    "\n",
    "print(full_name(first_name, last_name))\n",
    "            \n",
    "    \n",
    "\n",
    "            \n"
   ]
  },
  {
   "cell_type": "code",
   "execution_count": null,
   "metadata": {},
   "outputs": [],
   "source": []
  },
  {
   "cell_type": "markdown",
   "metadata": {},
   "source": [
    "### Exercise 2\n",
    "Create a function that alters all values in the given list by subtracting 5 and then doubling them."
   ]
  },
  {
   "cell_type": "code",
   "execution_count": null,
   "metadata": {},
   "outputs": [],
   "source": [
    "input_list = [5,10,15,20,3]\n",
    "# output = [0,10,20,30,-4]\n",
    "\n",
    "def mathThisList(numList):\n",
    "#     return [(num-5)*2 for num in numList]\n",
    "\n",
    "# print(mathThisList(input_list))\n",
    "    \n",
    "    for i in range(len(numList)):\n",
    "        numList[i] = (numList[i] - 5) * 2\n",
    "        return numList\n",
    "    \n",
    "print(mathThisList(input_list))\n",
    "\n",
    "\n"
   ]
  },
  {
   "cell_type": "markdown",
   "metadata": {},
   "source": [
    "### Exercise 3\n",
    "Create a function that takes in a list of strings and filters out the strings that DO NOT contain vowels. "
   ]
  },
  {
   "cell_type": "code",
   "execution_count": null,
   "metadata": {},
   "outputs": [],
   "source": [
    "string_list = ['Sheldon','Pnny','Leonard','Hwrd','Rj','Amy','Strt']\n",
    "# output = ['Sheldon','Leonard','Amy']\n",
    "# vowels = a e i o u\n",
    "\n",
    "def name_with_vowels(str_list):\n",
    "    return [name for name in str_list if ('e' or 'A' or 'i' or 'u' or 'o') in name]\n",
    "\n",
    "print(name_with_vowels(string_list))\n",
    "\n"
   ]
  },
  {
   "cell_type": "markdown",
   "metadata": {},
   "source": [
    "### Exercise 4\n",
    "Create a function that accepts a list as a parameter and returns a dictionary containing the list items as it's keys, and the number of times they appear in the list as the values"
   ]
  },
  {
   "cell_type": "code",
   "execution_count": null,
   "metadata": {},
   "outputs": [],
   "source": [
    "example_list = [\"Harry\", 'Hermione','Harry','Ron','Dobby','Draco','Luna','Harry','Hermione','Ron','Ron','Ron']\n",
    "\n",
    "# output = {\n",
    "#     \"Harry\":3,\n",
    "#     \"Hermione\":2,\n",
    "#     \"Ron\":4,\n",
    "#     \"Dobby\":1,\n",
    "#     \"Draco\":1,\n",
    "#     \"Luna\": 1\n",
    "# }\n",
    "\n"
   ]
  },
  {
   "cell_type": "code",
   "execution_count": null,
   "metadata": {},
   "outputs": [],
   "source": []
  },
  {
   "cell_type": "markdown",
   "metadata": {},
   "source": [
    "\n",
    "\n",
    "## Scope <br>\n",
    "<p>Scope refers to the ability to access variables, different types of scope include:<br>a) Global<br>b) Function (local)<br>c) Class (local)</p>"
   ]
  },
  {
   "cell_type": "code",
   "execution_count": 3,
   "metadata": {
    "scrolled": true
   },
   "outputs": [
    {
     "name": "stdout",
     "output_type": "stream",
     "text": [
      "3\n",
      "4\n"
     ]
    },
    {
     "ename": "NameError",
     "evalue": "name 'num9' is not defined",
     "output_type": "error",
     "traceback": [
      "\u001b[1;31m---------------------------------------------------------------------------\u001b[0m",
      "\u001b[1;31mNameError\u001b[0m                                 Traceback (most recent call last)",
      "Cell \u001b[1;32mIn[3], line 11\u001b[0m\n\u001b[0;32m      9\u001b[0m \u001b[38;5;66;03m#print(num1)\u001b[39;00m\n\u001b[0;32m     10\u001b[0m \u001b[38;5;28mprint\u001b[39m(return_num(\u001b[38;5;241m4\u001b[39m))\n\u001b[1;32m---> 11\u001b[0m \u001b[38;5;28mprint\u001b[39m(\u001b[43mnum9\u001b[49m)\n\u001b[0;32m     12\u001b[0m \u001b[38;5;28mprint\u001b[39m(num1)\n",
      "\u001b[1;31mNameError\u001b[0m: name 'num9' is not defined"
     ]
    }
   ],
   "source": [
    "# placement of variable declaration matters\n",
    "number =3 #<----- global variable\n",
    "\n",
    "def return_num(num9):\n",
    "    num = num9 #locally scoped function variable\n",
    "    return num\n",
    "\n",
    "print(number)\n",
    "#print(num1)\n",
    "print(return_num(4))\n",
    "print(num9)\n",
    "print(num1)"
   ]
  },
  {
   "cell_type": "code",
   "execution_count": 6,
   "metadata": {},
   "outputs": [
    {
     "ename": "TypeError",
     "evalue": "subtract_nums() takes 1 positional argument but 2 were given",
     "output_type": "error",
     "traceback": [
      "\u001b[1;31m---------------------------------------------------------------------------\u001b[0m",
      "\u001b[1;31mTypeError\u001b[0m                                 Traceback (most recent call last)",
      "Cell \u001b[1;32mIn[6], line 9\u001b[0m\n\u001b[0;32m      6\u001b[0m \u001b[38;5;28;01mdef\u001b[39;00m \u001b[38;5;21msubtract_nums\u001b[39m(b):\n\u001b[0;32m      7\u001b[0m     \u001b[38;5;28;01mreturn\u001b[39;00m number1 \u001b[38;5;241m-\u001b[39m b\n\u001b[1;32m----> 9\u001b[0m \u001b[43msubtract_nums\u001b[49m\u001b[43m(\u001b[49m\u001b[38;5;241;43m5\u001b[39;49m\u001b[43m,\u001b[49m\u001b[43m \u001b[49m\u001b[38;5;241;43m4\u001b[39;49m\u001b[43m)\u001b[49m\n",
      "\u001b[1;31mTypeError\u001b[0m: subtract_nums() takes 1 positional argument but 2 were given"
     ]
    }
   ],
   "source": [
    "def add_nums(a,b):\n",
    "    number1 = a\n",
    "    number2 = b\n",
    "    return number1 + number2\n",
    "\n",
    "def subtract_nums(b):\n",
    "    return number1 - b\n",
    "\n",
    "subtract_nums(5, 4)"
   ]
  },
  {
   "cell_type": "markdown",
   "metadata": {},
   "source": [
    "## Modules"
   ]
  },
  {
   "cell_type": "markdown",
   "metadata": {},
   "source": [
    "##### Importing Entire Modules\n"
   ]
  },
  {
   "cell_type": "code",
   "execution_count": 11,
   "metadata": {},
   "outputs": [
    {
     "name": "stdout",
     "output_type": "stream",
     "text": [
      "2\n",
      "3\n",
      "4\n"
     ]
    }
   ],
   "source": [
    "## Modules\n",
    "\n",
    "import math\n",
    "\n",
    "num = 5\n",
    "num2 = 2\n",
    "num3 = num//num2\n",
    "print(num3)\n",
    "\n",
    "print(math.ceil(5/2))\n",
    "print(math.ceil(math.pi))\n",
    "\n"
   ]
  },
  {
   "cell_type": "markdown",
   "metadata": {},
   "source": [
    "##### Importing Methods Only"
   ]
  },
  {
   "cell_type": "code",
   "execution_count": 17,
   "metadata": {},
   "outputs": [
    {
     "name": "stdout",
     "output_type": "stream",
     "text": [
      "3.141592653589793\n",
      "4\n",
      "3\n"
     ]
    }
   ],
   "source": [
    "# from xxx import yyy\n",
    "# from math import floor\n",
    "\n",
    "from math import floor, pi, ceil\n",
    "\n",
    "print(pi)\n",
    "print(ceil(pi))\n",
    "print(floor(pi))"
   ]
  },
  {
   "cell_type": "markdown",
   "metadata": {},
   "source": [
    "##### Using the 'as' Keyword"
   ]
  },
  {
   "cell_type": "code",
   "execution_count": 19,
   "metadata": {},
   "outputs": [
    {
     "name": "stdout",
     "output_type": "stream",
     "text": [
      "3\n"
     ]
    }
   ],
   "source": [
    "# from xxx import yyy as z\n",
    "\n",
    "from math import floor as f, pi as p\n",
    "\n",
    "print(f(p))\n"
   ]
  },
  {
   "cell_type": "markdown",
   "metadata": {},
   "source": [
    "##### Creating a Module"
   ]
  },
  {
   "cell_type": "code",
   "execution_count": 20,
   "metadata": {},
   "outputs": [
    {
     "name": "stdout",
     "output_type": "stream",
     "text": [
      "Hello Mr/Ms Ryan...we've been waiting for you!\n"
     ]
    }
   ],
   "source": [
    "from module import printName as pn\n",
    "pn('Ryan')"
   ]
  },
  {
   "cell_type": "code",
   "execution_count": null,
   "metadata": {},
   "outputs": [],
   "source": []
  },
  {
   "cell_type": "code",
   "execution_count": null,
   "metadata": {},
   "outputs": [],
   "source": []
  },
  {
   "cell_type": "markdown",
   "metadata": {},
   "source": [
    "# Homework Exercises"
   ]
  },
  {
   "cell_type": "markdown",
   "metadata": {},
   "source": [
    "### 1) Create a Module in VS Code and Import It into jupyter notebook <br>\n",
    "<p><b>Module should have the following capabilities:</b><br><br>\n",
    "1a) Has a function to calculate the square footage of a house <br>\n",
    "    <b>Reminder of Formula: Length X Width == Area</b><br>\n",
    "        <hr>\n",
    "1b) Has a function to calculate the circumference of a circle <br><br>\n",
    "<b>Program in Jupyter Notebook should take in user input and use imported functions to calculate a circle's circumference or a houses square footage</b>\n",
    "</p>"
   ]
  },
  {
   "cell_type": "code",
   "execution_count": 19,
   "metadata": {},
   "outputs": [
    {
     "name": "stdout",
     "output_type": "stream",
     "text": [
      "Enter 'H' to calculate your house area,\n",
      " or enter 'C' to calculate a circle's circumference,\n",
      " or enter 'Q' to quit. h\n",
      "Enter the length of your house, in feet. 10\n",
      "Enter the width of your house, in feet. 20\n",
      "Your house is 200 square feet.\n",
      "\n",
      "Enter 'H' to calculate your house area,\n",
      " or enter 'C' to calculate a circle's circumference,\n",
      " or enter 'Q' to quit. c\n",
      "Enter the diameter (2 times the radius) of the circle, in feet. 10\n",
      "The circumference of your circle is 31.42 feet.\n",
      "\n",
      "Enter 'H' to calculate your house area,\n",
      " or enter 'C' to calculate a circle's circumference,\n",
      " or enter 'Q' to quit. x\n",
      "Invalid entry. Please try again - remember to enter either 'H' or 'C'\n",
      "Enter 'H' to calculate your house area,\n",
      " or enter 'C' to calculate a circle's circumference,\n",
      " or enter 'Q' to quit. q\n",
      "\n",
      "Thanks for using Module random_math.  Have a great day!\n"
     ]
    }
   ],
   "source": [
    "# 1) Create a Module in VS Code and Import It into jupyter notebook\n",
    "from random_math import house_SF, cir_per\n",
    "while True:\n",
    "    user_choice = input(\"Enter 'H' to calculate your house area,\\n or enter 'C' to calculate a circle's circumference,\\n or enter 'Q' to quit. \")\n",
    "    if user_choice.lower() == 'h':\n",
    "        house_length = int(input(\"Enter the length of your house, in feet. \"))\n",
    "        house_width = int(input(\"Enter the width of your house, in feet. \"))\n",
    "        print(f\"Your house is {house_SF(house_length, house_width)} square feet.\\n\")\n",
    "        continue\n",
    "    elif user_choice.lower() == 'c':\n",
    "        diameter = int(input(\"Enter the diameter (2 times the radius) of the circle, in feet. \"))\n",
    "        print(f\"The circumference of your circle is {round(cir_per(diameter),2)} feet.\\n\")\n",
    "        continue\n",
    "    elif user_choice.lower() == 'q':\n",
    "        print(\"\\nThanks for using Module random_math.  Have a great day!\")\n",
    "        break\n",
    "    else:\n",
    "        print(\"Invalid entry. Please try again - remember to enter either 'H' or 'C'\")\n",
    "        continue\n",
    "\n",
    "\n"
   ]
  },
  {
   "cell_type": "markdown",
   "metadata": {},
   "source": [
    "## Exercise 2 <br>\n",
    "<p>Create a function which given an array of integers, return an array, where the first element is the count of\n",
    "positives numbers and the second element is sum of negative numbers. 0 is neither positive nor negative.\n",
    "If the input array is empty or null, return an empty array.</p><br>\n"
   ]
  },
  {
   "cell_type": "code",
   "execution_count": 31,
   "metadata": {},
   "outputs": [
    {
     "name": "stdout",
     "output_type": "stream",
     "text": [
      "[5, -164]\n",
      "[]\n"
     ]
    }
   ],
   "source": [
    "arr1 = [2, -4, 5, 3, 12, -104, -56, 27, 0] # Given list\n",
    "arr2 = [] # Empty list\n",
    "\n",
    "def poscnt_negsum(arr):\n",
    "    count=0\n",
    "    sum_neg = 0\n",
    "    return_array=[]\n",
    "    for item in arr:\n",
    "        if item > 0:\n",
    "            count += 1\n",
    "        elif item < 0:\n",
    "            sum_neg += item\n",
    "        elif array == []:\n",
    "            break\n",
    "    if arr == []:\n",
    "        pass\n",
    "    else:\n",
    "        return_array = [count, sum_neg]\n",
    "    return return_array\n",
    "\n",
    "print(poscnt_negsum(arr1))\n",
    "\n",
    "print(poscnt_negsum(arr2))\n",
    "\n"
   ]
  },
  {
   "cell_type": "markdown",
   "metadata": {},
   "source": [
    "## Exercise 3 <br>\n",
    "<p>Create a function that returns the sum of the two lowest positive numbers given\n",
    "an array of minimum 4 positive integers. No floats or non-positive integers will be passed.</p>"
   ]
  },
  {
   "cell_type": "code",
   "execution_count": 41,
   "metadata": {},
   "outputs": [
    {
     "name": "stdout",
     "output_type": "stream",
     "text": [
      "[6, 20]\n",
      "[1, 12]\n",
      "The list passing to the function,'two_lowest_pos', must have\n",
      "a minium of four positive integers in the list\n"
     ]
    }
   ],
   "source": [
    "pos_arr1 = [6, 20, 48, 96, 109, 10034]\n",
    "pos_arr2 = [24, 1, 32, 12]\n",
    "pos_arr3 = [5, 8, 2]\n",
    "\n",
    "\n",
    "def two_lowest_pos (arr):\n",
    "    if len(arr) >= 4:\n",
    "        sorted_arr = sorted(arr)\n",
    "        return [sorted_arr[0], sorted_arr[1]]\n",
    "    else:\n",
    "        return \"The list passing to the function,'two_lowest_pos', must have\\na minium of four positive integers in the list\"\n",
    "\n",
    "print(two_lowest_pos(pos_arr1))\n",
    "print(two_lowest_pos(pos_arr2))\n",
    "print(two_lowest_pos(pos_arr3))\n",
    "\n"
   ]
  },
  {
   "cell_type": "markdown",
   "metadata": {},
   "source": [
    "## Exercise 4 <br>\n",
    "<p>Write a function that when given a list of items will return the \n",
    "item that appears the most times in the list. \n",
    "If two or more items appear the same amount of times, output all items in a list.\n",
    "\n",
    "Example Input = ['Orange', 'Apple', 'Bear', 3, 7, 'Tree', 'Orange', 'Tree']\n",
    "Example Out = ['Orange', 'Tree']\n",
    "\n",
    "#Hint (a counter dictionary might be helpful)</p>"
   ]
  },
  {
   "cell_type": "code",
   "execution_count": 83,
   "metadata": {},
   "outputs": [
    {
     "name": "stdout",
     "output_type": "stream",
     "text": [
      "['Orange', 'Tree']\n"
     ]
    }
   ],
   "source": [
    "Example_Input = ['Orange', 'Apple', 'Bear', 3, 7, 'Tree', 'Orange', 'Tree']\n",
    "\n",
    "def max_two_items(arr):\n",
    "    item_dict = {}\n",
    "    return_list = []\n",
    "    for item in arr:\n",
    "        if item not in item_dict:\n",
    "            item_dict[item] = 1\n",
    "        elif item in item_dict:\n",
    "            temp = item_dict[item]\n",
    "            temp += 1\n",
    "            item_dict[item] = temp\n",
    "    value_list = list(item_dict.values())\n",
    "    x = sorted(value_list)\n",
    "    max_count = x[-1]\n",
    "    for k, v in item_dict.items():\n",
    "        if v == max_count:\n",
    "            return_list.append(k)\n",
    "        else:\n",
    "            continue      \n",
    "    return return_list\n",
    "\n",
    "print(max_two_items(Example_Input))\n",
    "\n",
    "\n",
    "\n",
    "\n",
    "\n"
   ]
  }
 ],
 "metadata": {
  "kernelspec": {
   "display_name": "Python 3 (ipykernel)",
   "language": "python",
   "name": "python3"
  },
  "language_info": {
   "codemirror_mode": {
    "name": "ipython",
    "version": 3
   },
   "file_extension": ".py",
   "mimetype": "text/x-python",
   "name": "python",
   "nbconvert_exporter": "python",
   "pygments_lexer": "ipython3",
   "version": "3.10.10"
  }
 },
 "nbformat": 4,
 "nbformat_minor": 2
}
